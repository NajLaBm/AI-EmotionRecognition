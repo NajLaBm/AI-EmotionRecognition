{
 "cells": [
  {
   "cell_type": "code",
   "execution_count": null,
   "metadata": {},
   "outputs": [],
   "source": [
    "import pandas as pd\n",
    "from sklearn.feature_extraction.text import TfidfVectorizer\n",
    "from sklearn.model_selection import train_test_split\n",
    "from sklearn.preprocessing import LabelEncoder\n",
    "from sklearn.linear_model import LogisticRegression\n",
    "import pickle\n",
    "\n",
    "# Charger le fichier CSV\n",
    "df = pd.read_csv('emotion_dataset_raw.csv')\n",
    "\n",
    "# Prétraitement des données\n",
    "texts = df['Text'].values\n",
    "labels = df['Emotion'].values\n",
    "\n",
    "# Encodage des étiquettes\n",
    "label_encoder = LabelEncoder()\n",
    "labels_encoded = label_encoder.fit_transform(labels)\n",
    "\n",
    "# Vectorisation du texte\n",
    "vectorizer = TfidfVectorizer(max_features=10000)  # Ajustez max_features selon vos besoins\n",
    "X = vectorizer.fit_transform(texts)\n",
    "\n",
    "# Division des données\n",
    "X_train, X_test, y_train, y_test = train_test_split(X, labels_encoded, test_size=0.2, random_state=42)\n",
    "\n",
    "# Entraînement du modèle\n",
    "model = LogisticRegression(max_iter=1000)  # Augmentez max_iter si nécessaire\n",
    "model.fit(X_train, y_train)\n",
    "\n",
    "# Évaluation du modèle (facultatif)\n",
    "print(f\"Model Accuracy: {model.score(X_test, y_test)}\")\n",
    "\n",
    "# Sauvegarder le modèle et les outils de prétraitement\n",
    "with open('text_emotion.pkl', 'wb') as file:\n",
    "    pickle.dump({\n",
    "        'model': model,\n",
    "        'vectorizer': vectorizer,\n",
    "        'label_encoder': label_encoder\n",
    "    }, file)\n",
    "\n",
    "print(\"Modèle et outils de prétraitement sauvegardés dans 'text_emotion.pkl'\")"
   ]
  }
 ],
 "metadata": {
  "language_info": {
   "name": "python"
  }
 },
 "nbformat": 4,
 "nbformat_minor": 2
}
